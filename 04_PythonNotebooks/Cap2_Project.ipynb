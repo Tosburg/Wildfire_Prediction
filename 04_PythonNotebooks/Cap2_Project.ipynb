{
 "cells": [
  {
   "cell_type": "code",
   "execution_count": 1,
   "metadata": {},
   "outputs": [
    {
     "name": "stderr",
     "output_type": "stream",
     "text": [
      "C:\\Users\\timos\\Anaconda3\\lib\\site-packages\\statsmodels\\tools\\_testing.py:19: FutureWarning: pandas.util.testing is deprecated. Use the functions in the public API at pandas.testing instead.\n",
      "  import pandas.util.testing as tm\n"
     ]
    }
   ],
   "source": [
    "# importing libraries for data exploration\n",
    "import numpy as np\n",
    "import pandas as pd\n",
    "import matplotlib.pyplot as plt\n",
    "import seaborn as sns"
   ]
  },
  {
   "cell_type": "markdown",
   "metadata": {},
   "source": [
    "Initial import of dataset."
   ]
  },
  {
   "cell_type": "code",
   "execution_count": 2,
   "metadata": {},
   "outputs": [
    {
     "data": {
      "text/html": [
       "<div>\n",
       "<style scoped>\n",
       "    .dataframe tbody tr th:only-of-type {\n",
       "        vertical-align: middle;\n",
       "    }\n",
       "\n",
       "    .dataframe tbody tr th {\n",
       "        vertical-align: top;\n",
       "    }\n",
       "\n",
       "    .dataframe thead th {\n",
       "        text-align: right;\n",
       "    }\n",
       "</style>\n",
       "<table border=\"1\" class=\"dataframe\">\n",
       "  <thead>\n",
       "    <tr style=\"text-align: right;\">\n",
       "      <th></th>\n",
       "      <th>latitude</th>\n",
       "      <th>longitude</th>\n",
       "      <th>brightness</th>\n",
       "      <th>scan</th>\n",
       "      <th>track</th>\n",
       "      <th>acq_time</th>\n",
       "      <th>satellite</th>\n",
       "      <th>instrument</th>\n",
       "      <th>confidence</th>\n",
       "      <th>version</th>\n",
       "      <th>bright_t31</th>\n",
       "      <th>frp</th>\n",
       "      <th>daynight</th>\n",
       "      <th>type</th>\n",
       "    </tr>\n",
       "    <tr>\n",
       "      <th>acq_date</th>\n",
       "      <th></th>\n",
       "      <th></th>\n",
       "      <th></th>\n",
       "      <th></th>\n",
       "      <th></th>\n",
       "      <th></th>\n",
       "      <th></th>\n",
       "      <th></th>\n",
       "      <th></th>\n",
       "      <th></th>\n",
       "      <th></th>\n",
       "      <th></th>\n",
       "      <th></th>\n",
       "      <th></th>\n",
       "    </tr>\n",
       "  </thead>\n",
       "  <tbody>\n",
       "    <tr>\n",
       "      <th>2010-01-01</th>\n",
       "      <td>19.3827</td>\n",
       "      <td>-155.0442</td>\n",
       "      <td>307.0</td>\n",
       "      <td>1.0</td>\n",
       "      <td>1.0</td>\n",
       "      <td>842</td>\n",
       "      <td>Terra</td>\n",
       "      <td>MODIS</td>\n",
       "      <td>70</td>\n",
       "      <td>6.2</td>\n",
       "      <td>291.2</td>\n",
       "      <td>8.3</td>\n",
       "      <td>N</td>\n",
       "      <td>2</td>\n",
       "    </tr>\n",
       "    <tr>\n",
       "      <th>2010-01-01</th>\n",
       "      <td>19.3814</td>\n",
       "      <td>-155.0539</td>\n",
       "      <td>319.8</td>\n",
       "      <td>1.0</td>\n",
       "      <td>1.0</td>\n",
       "      <td>842</td>\n",
       "      <td>Terra</td>\n",
       "      <td>MODIS</td>\n",
       "      <td>99</td>\n",
       "      <td>6.2</td>\n",
       "      <td>294.9</td>\n",
       "      <td>19.0</td>\n",
       "      <td>N</td>\n",
       "      <td>2</td>\n",
       "    </tr>\n",
       "    <tr>\n",
       "      <th>2010-01-01</th>\n",
       "      <td>19.3904</td>\n",
       "      <td>-155.0554</td>\n",
       "      <td>304.1</td>\n",
       "      <td>1.0</td>\n",
       "      <td>1.0</td>\n",
       "      <td>842</td>\n",
       "      <td>Terra</td>\n",
       "      <td>MODIS</td>\n",
       "      <td>59</td>\n",
       "      <td>6.2</td>\n",
       "      <td>290.6</td>\n",
       "      <td>6.6</td>\n",
       "      <td>N</td>\n",
       "      <td>2</td>\n",
       "    </tr>\n",
       "    <tr>\n",
       "      <th>2010-01-01</th>\n",
       "      <td>19.3891</td>\n",
       "      <td>-155.0651</td>\n",
       "      <td>317.5</td>\n",
       "      <td>1.0</td>\n",
       "      <td>1.0</td>\n",
       "      <td>842</td>\n",
       "      <td>Terra</td>\n",
       "      <td>MODIS</td>\n",
       "      <td>95</td>\n",
       "      <td>6.2</td>\n",
       "      <td>292.5</td>\n",
       "      <td>16.9</td>\n",
       "      <td>N</td>\n",
       "      <td>2</td>\n",
       "    </tr>\n",
       "    <tr>\n",
       "      <th>2010-01-01</th>\n",
       "      <td>26.6319</td>\n",
       "      <td>-80.6441</td>\n",
       "      <td>310.9</td>\n",
       "      <td>1.3</td>\n",
       "      <td>1.1</td>\n",
       "      <td>1555</td>\n",
       "      <td>Terra</td>\n",
       "      <td>MODIS</td>\n",
       "      <td>44</td>\n",
       "      <td>6.2</td>\n",
       "      <td>285.0</td>\n",
       "      <td>11.5</td>\n",
       "      <td>D</td>\n",
       "      <td>0</td>\n",
       "    </tr>\n",
       "  </tbody>\n",
       "</table>\n",
       "</div>"
      ],
      "text/plain": [
       "            latitude  longitude  brightness  scan  track  acq_time satellite  \\\n",
       "acq_date                                                                       \n",
       "2010-01-01   19.3827  -155.0442       307.0   1.0    1.0       842     Terra   \n",
       "2010-01-01   19.3814  -155.0539       319.8   1.0    1.0       842     Terra   \n",
       "2010-01-01   19.3904  -155.0554       304.1   1.0    1.0       842     Terra   \n",
       "2010-01-01   19.3891  -155.0651       317.5   1.0    1.0       842     Terra   \n",
       "2010-01-01   26.6319   -80.6441       310.9   1.3    1.1      1555     Terra   \n",
       "\n",
       "           instrument  confidence  version  bright_t31   frp daynight  type  \n",
       "acq_date                                                                     \n",
       "2010-01-01      MODIS          70      6.2       291.2   8.3        N     2  \n",
       "2010-01-01      MODIS          99      6.2       294.9  19.0        N     2  \n",
       "2010-01-01      MODIS          59      6.2       290.6   6.6        N     2  \n",
       "2010-01-01      MODIS          95      6.2       292.5  16.9        N     2  \n",
       "2010-01-01      MODIS          44      6.2       285.0  11.5        D     0  "
      ]
     },
     "execution_count": 2,
     "metadata": {},
     "output_type": "execute_result"
    }
   ],
   "source": [
    "# read in csv file from NASA FIRMS, treating data as time series and setting acq_date to index.\n",
    "df = pd.read_csv('DL_FIRE_M6_138850/fire_archive_M6_138850.csv', index_col='acq_date',parse_dates=True)\n",
    "df.head()"
   ]
  },
  {
   "cell_type": "markdown",
   "metadata": {},
   "source": [
    "Explore data set. Searching for empty or null values."
   ]
  },
  {
   "cell_type": "code",
   "execution_count": 3,
   "metadata": {},
   "outputs": [
    {
     "data": {
      "text/plain": [
       "latitude      0\n",
       "longitude     0\n",
       "brightness    0\n",
       "scan          0\n",
       "track         0\n",
       "acq_time      0\n",
       "satellite     0\n",
       "instrument    0\n",
       "confidence    0\n",
       "version       0\n",
       "bright_t31    0\n",
       "frp           0\n",
       "daynight      0\n",
       "type          0\n",
       "dtype: int64"
      ]
     },
     "execution_count": 3,
     "metadata": {},
     "output_type": "execute_result"
    }
   ],
   "source": [
    "# checking for null values\n",
    "df.isnull().sum()"
   ]
  },
  {
   "cell_type": "code",
   "execution_count": 4,
   "metadata": {},
   "outputs": [
    {
     "data": {
      "text/html": [
       "<div>\n",
       "<style scoped>\n",
       "    .dataframe tbody tr th:only-of-type {\n",
       "        vertical-align: middle;\n",
       "    }\n",
       "\n",
       "    .dataframe tbody tr th {\n",
       "        vertical-align: top;\n",
       "    }\n",
       "\n",
       "    .dataframe thead th {\n",
       "        text-align: right;\n",
       "    }\n",
       "</style>\n",
       "<table border=\"1\" class=\"dataframe\">\n",
       "  <thead>\n",
       "    <tr style=\"text-align: right;\">\n",
       "      <th></th>\n",
       "      <th>count</th>\n",
       "      <th>mean</th>\n",
       "      <th>std</th>\n",
       "      <th>min</th>\n",
       "      <th>25%</th>\n",
       "      <th>50%</th>\n",
       "      <th>75%</th>\n",
       "      <th>max</th>\n",
       "    </tr>\n",
       "  </thead>\n",
       "  <tbody>\n",
       "    <tr>\n",
       "      <th>latitude</th>\n",
       "      <td>1211376.0</td>\n",
       "      <td>38.765076</td>\n",
       "      <td>9.831400</td>\n",
       "      <td>18.9823</td>\n",
       "      <td>32.3798</td>\n",
       "      <td>36.6623</td>\n",
       "      <td>43.2917</td>\n",
       "      <td>70.3211</td>\n",
       "    </tr>\n",
       "    <tr>\n",
       "      <th>longitude</th>\n",
       "      <td>1211376.0</td>\n",
       "      <td>-105.530297</td>\n",
       "      <td>21.305924</td>\n",
       "      <td>-173.9637</td>\n",
       "      <td>-118.7433</td>\n",
       "      <td>-98.2420</td>\n",
       "      <td>-89.0094</td>\n",
       "      <td>-67.0042</td>\n",
       "    </tr>\n",
       "    <tr>\n",
       "      <th>brightness</th>\n",
       "      <td>1211376.0</td>\n",
       "      <td>325.341830</td>\n",
       "      <td>23.723060</td>\n",
       "      <td>300.0000</td>\n",
       "      <td>310.3000</td>\n",
       "      <td>318.9000</td>\n",
       "      <td>332.5000</td>\n",
       "      <td>506.5000</td>\n",
       "    </tr>\n",
       "    <tr>\n",
       "      <th>scan</th>\n",
       "      <td>1211376.0</td>\n",
       "      <td>1.618142</td>\n",
       "      <td>0.819347</td>\n",
       "      <td>1.0000</td>\n",
       "      <td>1.1000</td>\n",
       "      <td>1.3000</td>\n",
       "      <td>1.9000</td>\n",
       "      <td>4.8000</td>\n",
       "    </tr>\n",
       "    <tr>\n",
       "      <th>track</th>\n",
       "      <td>1211376.0</td>\n",
       "      <td>1.213772</td>\n",
       "      <td>0.249785</td>\n",
       "      <td>1.0000</td>\n",
       "      <td>1.0000</td>\n",
       "      <td>1.1000</td>\n",
       "      <td>1.3000</td>\n",
       "      <td>2.0000</td>\n",
       "    </tr>\n",
       "    <tr>\n",
       "      <th>acq_time</th>\n",
       "      <td>1211376.0</td>\n",
       "      <td>1649.478126</td>\n",
       "      <td>501.252882</td>\n",
       "      <td>0.0000</td>\n",
       "      <td>1627.0000</td>\n",
       "      <td>1836.0000</td>\n",
       "      <td>1940.0000</td>\n",
       "      <td>2359.0000</td>\n",
       "    </tr>\n",
       "    <tr>\n",
       "      <th>confidence</th>\n",
       "      <td>1211376.0</td>\n",
       "      <td>68.173480</td>\n",
       "      <td>22.817704</td>\n",
       "      <td>0.0000</td>\n",
       "      <td>54.0000</td>\n",
       "      <td>69.0000</td>\n",
       "      <td>86.0000</td>\n",
       "      <td>100.0000</td>\n",
       "    </tr>\n",
       "    <tr>\n",
       "      <th>version</th>\n",
       "      <td>1211376.0</td>\n",
       "      <td>6.208855</td>\n",
       "      <td>0.028409</td>\n",
       "      <td>6.2000</td>\n",
       "      <td>6.2000</td>\n",
       "      <td>6.2000</td>\n",
       "      <td>6.2000</td>\n",
       "      <td>6.3000</td>\n",
       "    </tr>\n",
       "    <tr>\n",
       "      <th>bright_t31</th>\n",
       "      <td>1211376.0</td>\n",
       "      <td>295.473693</td>\n",
       "      <td>9.584785</td>\n",
       "      <td>264.5000</td>\n",
       "      <td>289.8000</td>\n",
       "      <td>295.1000</td>\n",
       "      <td>300.5000</td>\n",
       "      <td>400.1000</td>\n",
       "    </tr>\n",
       "    <tr>\n",
       "      <th>frp</th>\n",
       "      <td>1211376.0</td>\n",
       "      <td>66.657147</td>\n",
       "      <td>213.264506</td>\n",
       "      <td>-59.2000</td>\n",
       "      <td>10.9000</td>\n",
       "      <td>22.5000</td>\n",
       "      <td>53.0000</td>\n",
       "      <td>14376.5000</td>\n",
       "    </tr>\n",
       "    <tr>\n",
       "      <th>type</th>\n",
       "      <td>1211376.0</td>\n",
       "      <td>0.093305</td>\n",
       "      <td>0.423664</td>\n",
       "      <td>0.0000</td>\n",
       "      <td>0.0000</td>\n",
       "      <td>0.0000</td>\n",
       "      <td>0.0000</td>\n",
       "      <td>3.0000</td>\n",
       "    </tr>\n",
       "  </tbody>\n",
       "</table>\n",
       "</div>"
      ],
      "text/plain": [
       "                count         mean         std       min        25%  \\\n",
       "latitude    1211376.0    38.765076    9.831400   18.9823    32.3798   \n",
       "longitude   1211376.0  -105.530297   21.305924 -173.9637  -118.7433   \n",
       "brightness  1211376.0   325.341830   23.723060  300.0000   310.3000   \n",
       "scan        1211376.0     1.618142    0.819347    1.0000     1.1000   \n",
       "track       1211376.0     1.213772    0.249785    1.0000     1.0000   \n",
       "acq_time    1211376.0  1649.478126  501.252882    0.0000  1627.0000   \n",
       "confidence  1211376.0    68.173480   22.817704    0.0000    54.0000   \n",
       "version     1211376.0     6.208855    0.028409    6.2000     6.2000   \n",
       "bright_t31  1211376.0   295.473693    9.584785  264.5000   289.8000   \n",
       "frp         1211376.0    66.657147  213.264506  -59.2000    10.9000   \n",
       "type        1211376.0     0.093305    0.423664    0.0000     0.0000   \n",
       "\n",
       "                  50%        75%         max  \n",
       "latitude      36.6623    43.2917     70.3211  \n",
       "longitude    -98.2420   -89.0094    -67.0042  \n",
       "brightness   318.9000   332.5000    506.5000  \n",
       "scan           1.3000     1.9000      4.8000  \n",
       "track          1.1000     1.3000      2.0000  \n",
       "acq_time    1836.0000  1940.0000   2359.0000  \n",
       "confidence    69.0000    86.0000    100.0000  \n",
       "version        6.2000     6.2000      6.3000  \n",
       "bright_t31   295.1000   300.5000    400.1000  \n",
       "frp           22.5000    53.0000  14376.5000  \n",
       "type           0.0000     0.0000      3.0000  "
      ]
     },
     "execution_count": 4,
     "metadata": {},
     "output_type": "execute_result"
    }
   ],
   "source": [
    "df.describe().T"
   ]
  },
  {
   "cell_type": "code",
   "execution_count": 5,
   "metadata": {},
   "outputs": [
    {
     "name": "stdout",
     "output_type": "stream",
     "text": [
      "<class 'pandas.core.frame.DataFrame'>\n",
      "DatetimeIndex: 1211376 entries, 2010-01-01 to 2020-01-01\n",
      "Data columns (total 14 columns):\n",
      " #   Column      Non-Null Count    Dtype  \n",
      "---  ------      --------------    -----  \n",
      " 0   latitude    1211376 non-null  float64\n",
      " 1   longitude   1211376 non-null  float64\n",
      " 2   brightness  1211376 non-null  float64\n",
      " 3   scan        1211376 non-null  float64\n",
      " 4   track       1211376 non-null  float64\n",
      " 5   acq_time    1211376 non-null  int64  \n",
      " 6   satellite   1211376 non-null  object \n",
      " 7   instrument  1211376 non-null  object \n",
      " 8   confidence  1211376 non-null  int64  \n",
      " 9   version     1211376 non-null  float64\n",
      " 10  bright_t31  1211376 non-null  float64\n",
      " 11  frp         1211376 non-null  float64\n",
      " 12  daynight    1211376 non-null  object \n",
      " 13  type        1211376 non-null  int64  \n",
      "dtypes: float64(8), int64(3), object(3)\n",
      "memory usage: 138.6+ MB\n"
     ]
    }
   ],
   "source": [
    "df.info()"
   ]
  },
  {
   "cell_type": "code",
   "execution_count": 6,
   "metadata": {},
   "outputs": [
    {
     "data": {
      "text/html": [
       "<div>\n",
       "<style scoped>\n",
       "    .dataframe tbody tr th:only-of-type {\n",
       "        vertical-align: middle;\n",
       "    }\n",
       "\n",
       "    .dataframe tbody tr th {\n",
       "        vertical-align: top;\n",
       "    }\n",
       "\n",
       "    .dataframe thead th {\n",
       "        text-align: right;\n",
       "    }\n",
       "</style>\n",
       "<table border=\"1\" class=\"dataframe\">\n",
       "  <thead>\n",
       "    <tr style=\"text-align: right;\">\n",
       "      <th></th>\n",
       "      <th>min</th>\n",
       "      <th>max</th>\n",
       "    </tr>\n",
       "  </thead>\n",
       "  <tbody>\n",
       "    <tr>\n",
       "      <th>latitude</th>\n",
       "      <td>18.9823</td>\n",
       "      <td>70.3211</td>\n",
       "    </tr>\n",
       "    <tr>\n",
       "      <th>longitude</th>\n",
       "      <td>-173.964</td>\n",
       "      <td>-67.0042</td>\n",
       "    </tr>\n",
       "    <tr>\n",
       "      <th>brightness</th>\n",
       "      <td>300</td>\n",
       "      <td>506.5</td>\n",
       "    </tr>\n",
       "    <tr>\n",
       "      <th>scan</th>\n",
       "      <td>1</td>\n",
       "      <td>4.8</td>\n",
       "    </tr>\n",
       "    <tr>\n",
       "      <th>track</th>\n",
       "      <td>1</td>\n",
       "      <td>2</td>\n",
       "    </tr>\n",
       "    <tr>\n",
       "      <th>acq_time</th>\n",
       "      <td>0</td>\n",
       "      <td>2359</td>\n",
       "    </tr>\n",
       "    <tr>\n",
       "      <th>satellite</th>\n",
       "      <td>Aqua</td>\n",
       "      <td>Terra</td>\n",
       "    </tr>\n",
       "    <tr>\n",
       "      <th>instrument</th>\n",
       "      <td>MODIS</td>\n",
       "      <td>MODIS</td>\n",
       "    </tr>\n",
       "    <tr>\n",
       "      <th>confidence</th>\n",
       "      <td>0</td>\n",
       "      <td>100</td>\n",
       "    </tr>\n",
       "    <tr>\n",
       "      <th>version</th>\n",
       "      <td>6.2</td>\n",
       "      <td>6.3</td>\n",
       "    </tr>\n",
       "    <tr>\n",
       "      <th>bright_t31</th>\n",
       "      <td>264.5</td>\n",
       "      <td>400.1</td>\n",
       "    </tr>\n",
       "    <tr>\n",
       "      <th>frp</th>\n",
       "      <td>-59.2</td>\n",
       "      <td>14376.5</td>\n",
       "    </tr>\n",
       "    <tr>\n",
       "      <th>daynight</th>\n",
       "      <td>D</td>\n",
       "      <td>N</td>\n",
       "    </tr>\n",
       "    <tr>\n",
       "      <th>type</th>\n",
       "      <td>0</td>\n",
       "      <td>3</td>\n",
       "    </tr>\n",
       "  </tbody>\n",
       "</table>\n",
       "</div>"
      ],
      "text/plain": [
       "                min      max\n",
       "latitude    18.9823  70.3211\n",
       "longitude  -173.964 -67.0042\n",
       "brightness      300    506.5\n",
       "scan              1      4.8\n",
       "track             1        2\n",
       "acq_time          0     2359\n",
       "satellite      Aqua    Terra\n",
       "instrument    MODIS    MODIS\n",
       "confidence        0      100\n",
       "version         6.2      6.3\n",
       "bright_t31    264.5    400.1\n",
       "frp           -59.2  14376.5\n",
       "daynight          D        N\n",
       "type              0        3"
      ]
     },
     "execution_count": 6,
     "metadata": {},
     "output_type": "execute_result"
    }
   ],
   "source": [
    "df.agg([min, max]).T"
   ]
  },
  {
   "cell_type": "markdown",
   "metadata": {},
   "source": [
    "Checking individual rows to drop or encode"
   ]
  },
  {
   "cell_type": "code",
   "execution_count": 7,
   "metadata": {},
   "outputs": [
    {
     "data": {
      "text/plain": [
       "count     1211376\n",
       "unique          2\n",
       "top          Aqua\n",
       "freq       638838\n",
       "Name: satellite, dtype: object"
      ]
     },
     "execution_count": 7,
     "metadata": {},
     "output_type": "execute_result"
    }
   ],
   "source": [
    "# column can be encoded. Describes total of 2 satellites making recordings\n",
    "df['satellite'].describe()"
   ]
  },
  {
   "cell_type": "code",
   "execution_count": 8,
   "metadata": {},
   "outputs": [
    {
     "data": {
      "text/plain": [
       "count     1211376\n",
       "unique          1\n",
       "top         MODIS\n",
       "freq      1211376\n",
       "Name: instrument, dtype: object"
      ]
     },
     "execution_count": 8,
     "metadata": {},
     "output_type": "execute_result"
    }
   ],
   "source": [
    "# column can be dropped. Describes collection method which is uniform for dataset.\n",
    "df['instrument'].describe()"
   ]
  },
  {
   "cell_type": "code",
   "execution_count": null,
   "metadata": {},
   "outputs": [],
   "source": [
    "# First method for creating date time column. Includes YYYY-MM-DD HH:MM. \n",
    "# Can be used to subdivide and track individual fires.\n",
    "# Method will be kept for future developments.\n",
    "\n",
    "# data['acq_time'] = data['acq_time'].astype(str).apply(lambda x: x.zfill(4))\n",
    "# data['acq_time'].head()\n",
    "# data['acq_time'] = data['acq_time'].astype(str)\n",
    "# data['acq_time'] = data['acq_time'].str[:2] + ':' + data['acq_time'].str[-2:]\n",
    "# data[\"DateTime\"] = data['acq_date'].astype(str) +' '+ data['acq_time'].astype(str)\n",
    "# data['DateTime'] = pd.to_datetime(data['DateTime'])"
   ]
  },
  {
   "cell_type": "code",
   "execution_count": 10,
   "metadata": {},
   "outputs": [],
   "source": [
    "df = df.drop(columns=['acq_time','instrument','scan','track','version'])"
   ]
  },
  {
   "cell_type": "code",
   "execution_count": 11,
   "metadata": {},
   "outputs": [
    {
     "data": {
      "text/html": [
       "<div>\n",
       "<style scoped>\n",
       "    .dataframe tbody tr th:only-of-type {\n",
       "        vertical-align: middle;\n",
       "    }\n",
       "\n",
       "    .dataframe tbody tr th {\n",
       "        vertical-align: top;\n",
       "    }\n",
       "\n",
       "    .dataframe thead th {\n",
       "        text-align: right;\n",
       "    }\n",
       "</style>\n",
       "<table border=\"1\" class=\"dataframe\">\n",
       "  <thead>\n",
       "    <tr style=\"text-align: right;\">\n",
       "      <th></th>\n",
       "      <th>latitude</th>\n",
       "      <th>longitude</th>\n",
       "      <th>brightness</th>\n",
       "      <th>satellite</th>\n",
       "      <th>confidence</th>\n",
       "      <th>bright_t31</th>\n",
       "      <th>frp</th>\n",
       "      <th>daynight</th>\n",
       "      <th>type</th>\n",
       "    </tr>\n",
       "    <tr>\n",
       "      <th>acq_date</th>\n",
       "      <th></th>\n",
       "      <th></th>\n",
       "      <th></th>\n",
       "      <th></th>\n",
       "      <th></th>\n",
       "      <th></th>\n",
       "      <th></th>\n",
       "      <th></th>\n",
       "      <th></th>\n",
       "    </tr>\n",
       "  </thead>\n",
       "  <tbody>\n",
       "    <tr>\n",
       "      <th>2010-01-01</th>\n",
       "      <td>19.3827</td>\n",
       "      <td>-155.0442</td>\n",
       "      <td>307.0</td>\n",
       "      <td>Terra</td>\n",
       "      <td>70</td>\n",
       "      <td>291.2</td>\n",
       "      <td>8.3</td>\n",
       "      <td>N</td>\n",
       "      <td>2</td>\n",
       "    </tr>\n",
       "    <tr>\n",
       "      <th>2010-01-01</th>\n",
       "      <td>19.3814</td>\n",
       "      <td>-155.0539</td>\n",
       "      <td>319.8</td>\n",
       "      <td>Terra</td>\n",
       "      <td>99</td>\n",
       "      <td>294.9</td>\n",
       "      <td>19.0</td>\n",
       "      <td>N</td>\n",
       "      <td>2</td>\n",
       "    </tr>\n",
       "    <tr>\n",
       "      <th>2010-01-01</th>\n",
       "      <td>19.3904</td>\n",
       "      <td>-155.0554</td>\n",
       "      <td>304.1</td>\n",
       "      <td>Terra</td>\n",
       "      <td>59</td>\n",
       "      <td>290.6</td>\n",
       "      <td>6.6</td>\n",
       "      <td>N</td>\n",
       "      <td>2</td>\n",
       "    </tr>\n",
       "    <tr>\n",
       "      <th>2010-01-01</th>\n",
       "      <td>19.3891</td>\n",
       "      <td>-155.0651</td>\n",
       "      <td>317.5</td>\n",
       "      <td>Terra</td>\n",
       "      <td>95</td>\n",
       "      <td>292.5</td>\n",
       "      <td>16.9</td>\n",
       "      <td>N</td>\n",
       "      <td>2</td>\n",
       "    </tr>\n",
       "    <tr>\n",
       "      <th>2010-01-01</th>\n",
       "      <td>26.6319</td>\n",
       "      <td>-80.6441</td>\n",
       "      <td>310.9</td>\n",
       "      <td>Terra</td>\n",
       "      <td>44</td>\n",
       "      <td>285.0</td>\n",
       "      <td>11.5</td>\n",
       "      <td>D</td>\n",
       "      <td>0</td>\n",
       "    </tr>\n",
       "  </tbody>\n",
       "</table>\n",
       "</div>"
      ],
      "text/plain": [
       "            latitude  longitude  brightness satellite  confidence  bright_t31  \\\n",
       "acq_date                                                                        \n",
       "2010-01-01   19.3827  -155.0442       307.0     Terra          70       291.2   \n",
       "2010-01-01   19.3814  -155.0539       319.8     Terra          99       294.9   \n",
       "2010-01-01   19.3904  -155.0554       304.1     Terra          59       290.6   \n",
       "2010-01-01   19.3891  -155.0651       317.5     Terra          95       292.5   \n",
       "2010-01-01   26.6319   -80.6441       310.9     Terra          44       285.0   \n",
       "\n",
       "             frp daynight  type  \n",
       "acq_date                         \n",
       "2010-01-01   8.3        N     2  \n",
       "2010-01-01  19.0        N     2  \n",
       "2010-01-01   6.6        N     2  \n",
       "2010-01-01  16.9        N     2  \n",
       "2010-01-01  11.5        D     0  "
      ]
     },
     "execution_count": 11,
     "metadata": {},
     "output_type": "execute_result"
    }
   ],
   "source": [
    "df.head()"
   ]
  },
  {
   "cell_type": "code",
   "execution_count": 12,
   "metadata": {},
   "outputs": [
    {
     "data": {
      "text/plain": [
       "(1211376, 9)"
      ]
     },
     "execution_count": 12,
     "metadata": {},
     "output_type": "execute_result"
    }
   ],
   "source": [
    "df.shape"
   ]
  },
  {
   "cell_type": "code",
   "execution_count": 18,
   "metadata": {},
   "outputs": [
    {
     "data": {
      "text/html": [
       "<div>\n",
       "<style scoped>\n",
       "    .dataframe tbody tr th:only-of-type {\n",
       "        vertical-align: middle;\n",
       "    }\n",
       "\n",
       "    .dataframe tbody tr th {\n",
       "        vertical-align: top;\n",
       "    }\n",
       "\n",
       "    .dataframe thead th {\n",
       "        text-align: right;\n",
       "    }\n",
       "</style>\n",
       "<table border=\"1\" class=\"dataframe\">\n",
       "  <thead>\n",
       "    <tr style=\"text-align: right;\">\n",
       "      <th></th>\n",
       "      <th>Aqua</th>\n",
       "      <th>Terra</th>\n",
       "    </tr>\n",
       "    <tr>\n",
       "      <th>acq_date</th>\n",
       "      <th></th>\n",
       "      <th></th>\n",
       "    </tr>\n",
       "  </thead>\n",
       "  <tbody>\n",
       "    <tr>\n",
       "      <th>2010-01-01</th>\n",
       "      <td>0</td>\n",
       "      <td>1</td>\n",
       "    </tr>\n",
       "    <tr>\n",
       "      <th>2010-01-01</th>\n",
       "      <td>0</td>\n",
       "      <td>1</td>\n",
       "    </tr>\n",
       "    <tr>\n",
       "      <th>2010-01-01</th>\n",
       "      <td>0</td>\n",
       "      <td>1</td>\n",
       "    </tr>\n",
       "    <tr>\n",
       "      <th>2010-01-01</th>\n",
       "      <td>0</td>\n",
       "      <td>1</td>\n",
       "    </tr>\n",
       "    <tr>\n",
       "      <th>2010-01-01</th>\n",
       "      <td>0</td>\n",
       "      <td>1</td>\n",
       "    </tr>\n",
       "    <tr>\n",
       "      <th>...</th>\n",
       "      <td>...</td>\n",
       "      <td>...</td>\n",
       "    </tr>\n",
       "    <tr>\n",
       "      <th>2020-01-01</th>\n",
       "      <td>1</td>\n",
       "      <td>0</td>\n",
       "    </tr>\n",
       "    <tr>\n",
       "      <th>2020-01-01</th>\n",
       "      <td>0</td>\n",
       "      <td>1</td>\n",
       "    </tr>\n",
       "    <tr>\n",
       "      <th>2020-01-01</th>\n",
       "      <td>0</td>\n",
       "      <td>1</td>\n",
       "    </tr>\n",
       "    <tr>\n",
       "      <th>2020-01-01</th>\n",
       "      <td>1</td>\n",
       "      <td>0</td>\n",
       "    </tr>\n",
       "    <tr>\n",
       "      <th>2020-01-01</th>\n",
       "      <td>1</td>\n",
       "      <td>0</td>\n",
       "    </tr>\n",
       "  </tbody>\n",
       "</table>\n",
       "<p>1211376 rows × 2 columns</p>\n",
       "</div>"
      ],
      "text/plain": [
       "            Aqua  Terra\n",
       "acq_date               \n",
       "2010-01-01     0      1\n",
       "2010-01-01     0      1\n",
       "2010-01-01     0      1\n",
       "2010-01-01     0      1\n",
       "2010-01-01     0      1\n",
       "...          ...    ...\n",
       "2020-01-01     1      0\n",
       "2020-01-01     0      1\n",
       "2020-01-01     0      1\n",
       "2020-01-01     1      0\n",
       "2020-01-01     1      0\n",
       "\n",
       "[1211376 rows x 2 columns]"
      ]
     },
     "execution_count": 18,
     "metadata": {},
     "output_type": "execute_result"
    }
   ],
   "source": [
    "pd.get_dummies(df['satellite'])"
   ]
  },
  {
   "cell_type": "code",
   "execution_count": null,
   "metadata": {},
   "outputs": [],
   "source": []
  },
  {
   "cell_type": "code",
   "execution_count": null,
   "metadata": {},
   "outputs": [],
   "source": []
  },
  {
   "cell_type": "code",
   "execution_count": null,
   "metadata": {},
   "outputs": [],
   "source": []
  },
  {
   "cell_type": "code",
   "execution_count": null,
   "metadata": {},
   "outputs": [],
   "source": [
    "data.head(10)"
   ]
  },
  {
   "cell_type": "code",
   "execution_count": null,
   "metadata": {},
   "outputs": [],
   "source": [
    "data.iloc[0:4,:].plot.scatter(x='latitude',y='longitude')\n",
    "plt.show()"
   ]
  },
  {
   "cell_type": "code",
   "execution_count": null,
   "metadata": {},
   "outputs": [],
   "source": [
    "data.iloc[4:9,:].plot.scatter(x='latitude',y='longitude')\n",
    "plt.show()"
   ]
  },
  {
   "cell_type": "code",
   "execution_count": null,
   "metadata": {},
   "outputs": [],
   "source": [
    "data_west = data.loc[(data['longitude'] >= -125) & (data['longitude'] <= -115) & (data['latitude'] <= 50) & (data['latitude'] >= 30)]"
   ]
  },
  {
   "cell_type": "code",
   "execution_count": null,
   "metadata": {},
   "outputs": [],
   "source": [
    "data_west['DateTime'].nunique()"
   ]
  },
  {
   "cell_type": "code",
   "execution_count": null,
   "metadata": {},
   "outputs": [],
   "source": [
    "data_west.shape"
   ]
  },
  {
   "cell_type": "code",
   "execution_count": null,
   "metadata": {},
   "outputs": [],
   "source": [
    "data_west.head()"
   ]
  },
  {
   "cell_type": "code",
   "execution_count": null,
   "metadata": {},
   "outputs": [],
   "source": [
    "data_west.plot.scatter(x='longitude',y='latitude',c='confidence')\n",
    "plt.show()"
   ]
  },
  {
   "cell_type": "code",
   "execution_count": null,
   "metadata": {},
   "outputs": [],
   "source": [
    "import datetime as dt"
   ]
  },
  {
   "cell_type": "code",
   "execution_count": null,
   "metadata": {},
   "outputs": [],
   "source": [
    "data_west_2010 = data_west[data_west['DateTime'].dt.year == 2010]"
   ]
  },
  {
   "cell_type": "code",
   "execution_count": null,
   "metadata": {},
   "outputs": [],
   "source": [
    "data_west_2010.shape"
   ]
  },
  {
   "cell_type": "code",
   "execution_count": null,
   "metadata": {},
   "outputs": [],
   "source": [
    "data_west_2010.plot.scatter(x='longitude',y='latitude',c='confidence')\n",
    "plt.show()"
   ]
  },
  {
   "cell_type": "code",
   "execution_count": null,
   "metadata": {},
   "outputs": [],
   "source": [
    "data_west_2010.head(10)"
   ]
  },
  {
   "cell_type": "code",
   "execution_count": null,
   "metadata": {},
   "outputs": [],
   "source": [
    "data_west_2010[data_west_2010['brightness'] == data_west_2010['brightness'].max()]"
   ]
  },
  {
   "cell_type": "code",
   "execution_count": null,
   "metadata": {},
   "outputs": [],
   "source": [
    "test = data_west_2010.groupby('DateTime')"
   ]
  },
  {
   "cell_type": "code",
   "execution_count": null,
   "metadata": {},
   "outputs": [],
   "source": [
    "grouped = grouped.apply(lambda data_west_2010: data_west_2010[data_west_2010['brightness'] == data_west_2010['brightness'].max()])"
   ]
  },
  {
   "cell_type": "code",
   "execution_count": null,
   "metadata": {},
   "outputs": [],
   "source": [
    "test1 = data_west_2010.loc[data_west_2010.groupby([\"DateTime\"])[\"brightness\"].idxmax()]"
   ]
  },
  {
   "cell_type": "code",
   "execution_count": null,
   "metadata": {},
   "outputs": [],
   "source": [
    "test1.reset_index(inplace=True)"
   ]
  },
  {
   "cell_type": "code",
   "execution_count": null,
   "metadata": {},
   "outputs": [],
   "source": [
    "test1.drop(columns='index', inplace=True)\n",
    "test1.head(20)"
   ]
  },
  {
   "cell_type": "code",
   "execution_count": null,
   "metadata": {},
   "outputs": [],
   "source": [
    "testplot = test1.iloc[0:10,:]"
   ]
  },
  {
   "cell_type": "code",
   "execution_count": null,
   "metadata": {},
   "outputs": [],
   "source": [
    "sns.scatterplot(data=testplot, x=\"longitude\", y=\"latitude\",palette=\"deep\")\n",
    "\n",
    "plt.tight_layout()\n",
    "plt.show()"
   ]
  },
  {
   "cell_type": "code",
   "execution_count": null,
   "metadata": {},
   "outputs": [],
   "source": [
    "sns.lineplot(x='DateTime',y='brightness',data=test1)"
   ]
  },
  {
   "cell_type": "code",
   "execution_count": null,
   "metadata": {},
   "outputs": [],
   "source": [
    "test1.plot.scatter(x='longitude',y='latitude',c='confidence')\n",
    "plt.show()"
   ]
  },
  {
   "cell_type": "code",
   "execution_count": null,
   "metadata": {},
   "outputs": [],
   "source": [
    "test1.head()"
   ]
  },
  {
   "cell_type": "code",
   "execution_count": null,
   "metadata": {},
   "outputs": [],
   "source": [
    "str(test1.iloc[1,9] - test1.iloc[0,9])"
   ]
  },
  {
   "cell_type": "code",
   "execution_count": null,
   "metadata": {},
   "outputs": [],
   "source": []
  },
  {
   "cell_type": "code",
   "execution_count": null,
   "metadata": {},
   "outputs": [],
   "source": [
    "# from math import sin, cos, sqrt, atan2, radians\n",
    "\n",
    "# # approximate radius of earth in km\n",
    "# R = 6373.0\n",
    "\n",
    "# lat1 = radians(52.2296756)\n",
    "# lon1 = radians(21.0122287)\n",
    "# lat2 = radians(52.406374)\n",
    "# lon2 = radians(16.9251681)\n",
    "\n",
    "# dlon = lon2 - lon1\n",
    "# dlat = lat2 - lat1\n",
    "\n",
    "# a = sin(dlat / 2)**2 + cos(lat1) * cos(lat2) * sin(dlon / 2)**2\n",
    "# c = 2 * atan2(sqrt(a), sqrt(1 - a))\n",
    "\n",
    "# distance = R * c\n",
    "\n",
    "# print(\"Result:\", distance)\n",
    "# print(\"Should be:\", 278.546, \"km\")\n",
    "# The distance is now returning the correct value of 278.545589351 km."
   ]
  },
  {
   "cell_type": "code",
   "execution_count": null,
   "metadata": {},
   "outputs": [],
   "source": [
    "test1"
   ]
  },
  {
   "cell_type": "code",
   "execution_count": null,
   "metadata": {},
   "outputs": [],
   "source": []
  }
 ],
 "metadata": {
  "kernelspec": {
   "display_name": "Python 3",
   "language": "python",
   "name": "python3"
  },
  "language_info": {
   "codemirror_mode": {
    "name": "ipython",
    "version": 3
   },
   "file_extension": ".py",
   "mimetype": "text/x-python",
   "name": "python",
   "nbconvert_exporter": "python",
   "pygments_lexer": "ipython3",
   "version": "3.7.4"
  }
 },
 "nbformat": 4,
 "nbformat_minor": 2
}
